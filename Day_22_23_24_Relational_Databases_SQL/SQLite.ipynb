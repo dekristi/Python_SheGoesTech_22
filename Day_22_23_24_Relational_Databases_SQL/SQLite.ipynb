{
 "cells": [
  {
   "cell_type": "code",
   "execution_count": 1,
   "metadata": {},
   "outputs": [],
   "source": [
    "import sqlite3\n",
    "import pandas as pd"
   ]
  },
  {
   "cell_type": "code",
   "execution_count": 2,
   "metadata": {},
   "outputs": [],
   "source": [
    "con = sqlite3.connect('chinook.db')"
   ]
  },
  {
   "cell_type": "code",
   "execution_count": 3,
   "metadata": {},
   "outputs": [],
   "source": [
    "cur = con.cursor()"
   ]
  },
  {
   "cell_type": "code",
   "execution_count": null,
   "metadata": {},
   "outputs": [],
   "source": [
    "# 1. get total sales for all years using invoice table\n",
    "# you will want to use SUBSTR to get the year from the invoice date\n",
    "# you will want to use SUM to get the total sales for each year"
   ]
  },
  {
   "cell_type": "code",
   "execution_count": 5,
   "metadata": {},
   "outputs": [
    {
     "name": "stdout",
     "output_type": "stream",
     "text": [
      "[('2009', 449.4600000000003), ('2010', 481.45000000000033), ('2011', 469.5800000000003), ('2012', 477.53000000000026), ('2013', 450.58000000000027)]\n"
     ]
    }
   ],
   "source": [
    "total_sales = cur.execute('SELECT SUBstr(InvoiceDate, 1, 4) AS Year, SUM(Total) FROM invoices GROUP BY Year').fetchall()\n",
    "print(total_sales)"
   ]
  },
  {
   "cell_type": "code",
   "execution_count": null,
   "metadata": {},
   "outputs": [],
   "source": [
    "# 2. get total sales for each country - use invoice table\n",
    "# you will also need to join with the customer table - those have country info"
   ]
  },
  {
   "cell_type": "code",
   "execution_count": 8,
   "metadata": {},
   "outputs": [
    {
     "name": "stdout",
     "output_type": "stream",
     "text": [
      "[('Argentina', 37.620000000000005), ('Australia', 37.620000000000005), ('Austria', 42.62), ('Belgium', 37.62), ('Brazil', 190.1), ('Canada', 303.96), ('Chile', 46.62), ('Czech Republic', 90.24), ('Denmark', 37.620000000000005), ('Finland', 41.620000000000005), ('France', 195.09999999999994), ('Germany', 156.48), ('Hungary', 45.62), ('India', 75.25999999999999), ('Ireland', 45.62), ('Italy', 37.620000000000005), ('Netherlands', 40.62), ('Norway', 39.62), ('Poland', 37.620000000000005), ('Portugal', 77.24), ('Spain', 37.62), ('Sweden', 38.620000000000005), ('USA', 523.0600000000004), ('United Kingdom', 112.85999999999999)]\n"
     ]
    }
   ],
   "source": [
    "total_sales_cntr = cur.execute('SELECT Country, SUM(Total) FROM invoices as i JOIN customers  as c ON i.CustomerId=c.CustomerId GROUP BY Country').fetchall()\n",
    "print(total_sales_cntr)"
   ]
  },
  {
   "cell_type": "code",
   "execution_count": null,
   "metadata": {},
   "outputs": [],
   "source": [
    "#3. a count tracks in each playlist - use playlist_track table"
   ]
  },
  {
   "cell_type": "code",
   "execution_count": 10,
   "metadata": {},
   "outputs": [
    {
     "name": "stdout",
     "output_type": "stream",
     "text": [
      "[(1, 3290), (3, 213), (5, 1477), (8, 3290), (9, 1), (10, 213), (11, 39), (12, 75), (13, 25), (14, 25), (15, 25), (16, 15), (17, 26), (18, 1)]\n"
     ]
    }
   ],
   "source": [
    "track_count = cur.execute('SELECT PlaylistId, COUNT(TrackId) FROM playlist_track GROUP BY PlaylistId').fetchall()\n",
    "print(track_count)"
   ]
  },
  {
   "cell_type": "code",
   "execution_count": null,
   "metadata": {},
   "outputs": [],
   "source": [
    "#extra challenge get total track lenght in minutes for each playlist\n",
    "# you will need to join with the track table"
   ]
  },
  {
   "cell_type": "code",
   "execution_count": 7,
   "metadata": {},
   "outputs": [
    {
     "name": "stdout",
     "output_type": "stream",
     "text": [
      "[(1, 12981), (3, 8239), (5, 5914), (8, 12981), (9, 4), (10, 8239), (11, 141), (12, 329), (13, 99), (14, 117), (15, 113), (16, 62), (17, 123), (18, 3)]\n"
     ]
    }
   ],
   "source": [
    "track_length = cur.execute('SELECT PlaylistId, SUM(Milliseconds /60000) as Minutes FROM playlist_track as pt JOIN tracks as t ON pt.TrackId=t.TrackId GROUP BY PlaylistId').fetchall()\n",
    "print(track_length)"
   ]
  },
  {
   "cell_type": "code",
   "execution_count": null,
   "metadata": {},
   "outputs": [],
   "source": [
    "# 3. c cherry on top - provide names of these playlists\n",
    "# so you will want to join with the playlist table as well"
   ]
  },
  {
   "cell_type": "code",
   "execution_count": 12,
   "metadata": {},
   "outputs": [
    {
     "ename": "OperationalError",
     "evalue": "ambiguous column name: Name",
     "output_type": "error",
     "traceback": [
      "\u001b[1;31m---------------------------------------------------------------------------\u001b[0m",
      "\u001b[1;31mOperationalError\u001b[0m                          Traceback (most recent call last)",
      "\u001b[1;32m<ipython-input-12-5f292b5597b7>\u001b[0m in \u001b[0;36m<module>\u001b[1;34m\u001b[0m\n\u001b[1;32m----> 1\u001b[1;33m \u001b[0mtrack_length_name\u001b[0m \u001b[1;33m=\u001b[0m \u001b[0mcur\u001b[0m\u001b[1;33m.\u001b[0m\u001b[0mexecute\u001b[0m\u001b[1;33m(\u001b[0m\u001b[1;34m'SELECT Name, SUM(Milliseconds /60000) as Minutes FROM playlist_track as pt JOIN tracks as t ON pt.TrackId=t.TrackId JOIN playlists as pl ON pl.PlaylistId=pt.PlaylistId GROUP BY Name'\u001b[0m\u001b[1;33m)\u001b[0m\u001b[1;33m.\u001b[0m\u001b[0mfetchall\u001b[0m\u001b[1;33m(\u001b[0m\u001b[1;33m)\u001b[0m\u001b[1;33m\u001b[0m\u001b[1;33m\u001b[0m\u001b[0m\n\u001b[0m\u001b[0;32m      2\u001b[0m \u001b[0mprint\u001b[0m\u001b[1;33m(\u001b[0m\u001b[0mtrack_length_name\u001b[0m\u001b[1;33m)\u001b[0m\u001b[1;33m\u001b[0m\u001b[1;33m\u001b[0m\u001b[0m\n",
      "\u001b[1;31mOperationalError\u001b[0m: ambiguous column name: Name"
     ]
    }
   ],
   "source": [
    "track_length_name = cur.execute('SELECT Name, SUM(Milliseconds /60000) as Minutes FROM playlist_track as pt JOIN tracks as t ON pt.TrackId=t.TrackId JOIN playlists as pl ON pl.PlaylistId=pt.PlaylistId GROUP BY Name').fetchall()\n",
    "print(track_length_name)"
   ]
  },
  {
   "cell_type": "code",
   "execution_count": null,
   "metadata": {},
   "outputs": [],
   "source": []
  },
  {
   "cell_type": "code",
   "execution_count": null,
   "metadata": {},
   "outputs": [],
   "source": []
  }
 ],
 "metadata": {
  "kernelspec": {
   "display_name": "Python 3.8.8",
   "language": "python",
   "name": "python3"
  },
  "language_info": {
   "codemirror_mode": {
    "name": "ipython",
    "version": 3
   },
   "file_extension": ".py",
   "mimetype": "text/x-python",
   "name": "python",
   "nbconvert_exporter": "python",
   "pygments_lexer": "ipython3",
   "version": "3.8.8"
  },
  "orig_nbformat": 4,
  "vscode": {
   "interpreter": {
    "hash": "ad2bdc8ecc057115af97d19610ffacc2b4e99fae6737bb82f5d7fb13d2f2c186"
   }
  }
 },
 "nbformat": 4,
 "nbformat_minor": 2
}
