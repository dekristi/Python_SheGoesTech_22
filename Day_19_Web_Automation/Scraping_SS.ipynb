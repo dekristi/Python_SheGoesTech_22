{
 "cells": [
  {
   "cell_type": "code",
   "execution_count": 36,
   "metadata": {},
   "outputs": [],
   "source": [
    "import requests\n",
    "import time # import for playing nice and not getting blocked\n",
    "import pandas as pd\n",
    "import matplotlib.pyplot as plt\n",
    "import seaborn as sns\n",
    "from bs4 import BeautifulSoup"
   ]
  },
  {
   "cell_type": "code",
   "execution_count": 37,
   "metadata": {},
   "outputs": [],
   "source": [
    "url = \"https://www.ss.com/lv/entertainment/sports/ski/skis/sell/riga_region_f/\"\n",
    "req = requests.get(url)"
   ]
  },
  {
   "cell_type": "code",
   "execution_count": 38,
   "metadata": {},
   "outputs": [],
   "source": [
    "soup = BeautifulSoup(req.text, 'lxml')\n",
    "headline = soup.find(\"tr\", {\"id\":\"head_line\"}) "
   ]
  },
  {
   "cell_type": "code",
   "execution_count": 40,
   "metadata": {},
   "outputs": [],
   "source": [
    "headline = soup.find(\"tr\", {\"id\":\"head_line\"}) "
   ]
  },
  {
   "cell_type": "code",
   "execution_count": 41,
   "metadata": {},
   "outputs": [],
   "source": [
    "headtds = headline.find_all(\"td\")"
   ]
  },
  {
   "cell_type": "code",
   "execution_count": 42,
   "metadata": {},
   "outputs": [
    {
     "data": {
      "text/plain": [
       "['Ražotājs', 'Modelis', 'Gads', 'Garums', 'Stāv.', 'Cena']"
      ]
     },
     "execution_count": 42,
     "metadata": {},
     "output_type": "execute_result"
    }
   ],
   "source": [
    "headcolumns = [el.text for el in headtds[1:]]\n",
    "headcolumns"
   ]
  },
  {
   "cell_type": "code",
   "execution_count": 43,
   "metadata": {},
   "outputs": [],
   "source": [
    "def getColList(soup):\n",
    "    column_list = [\"description\",\"url\"] # we decided to that we need these two column names no matter the html\n",
    "    headline = soup.find(\"tr\", {\"id\":\"head_line\"})\n",
    "    headtds = headline.find_all(\"td\")\n",
    "    headcolumns = [el.text for el in headtds[1:]] # this will get all column names starting with 2nd in HTML\n",
    "    column_list += headcolumns\n",
    "    return column_list"
   ]
  },
  {
   "cell_type": "code",
   "execution_count": 44,
   "metadata": {},
   "outputs": [],
   "source": [
    "column_names = getColList(soup)"
   ]
  },
  {
   "cell_type": "code",
   "execution_count": 45,
   "metadata": {},
   "outputs": [],
   "source": [
    "def getRowList(soup):\n",
    "    trows = soup.find_all('tr')\n",
    "    aprows = [row for row in trows if row.get('id',\"\").startswith(\"tr_\") and not row.get('id',\"\").startswith(\"tr_bnr\") ]\n",
    "    return aprows"
   ]
  },
  {
   "cell_type": "code",
   "execution_count": 46,
   "metadata": {},
   "outputs": [],
   "source": [
    "def getRow(row,colist=column_names):\n",
    "    row_tds = row.find_all('td')\n",
    "    rowDict = {}\n",
    "    if len(row_tds) < 3: # a little sanity check\n",
    "        print(\"Hmm bad row\")\n",
    "        return rowDict\n",
    "    \n",
    "    rowDict[colist[0]] = row_tds[2].text # so the big assumption is that we always get description in 3rd column\n",
    "    rowDict[colist[1]] = \"https://ss.com\" + row_tds[1].find('a').get('href')\n",
    "    for td,key in zip(row_tds[3:],colist[2:]): \n",
    "        rowDict[key] = td.text\n",
    "    return rowDict"
   ]
  },
  {
   "cell_type": "code",
   "execution_count": 47,
   "metadata": {},
   "outputs": [],
   "source": [
    "def getRows(rowlist,colist=column_names):\n",
    "    return [getRow(row, colist=colist) for row in rowlist]"
   ]
  },
  {
   "cell_type": "code",
   "execution_count": 50,
   "metadata": {},
   "outputs": [],
   "source": [
    "def getDFfromURL(url):\n",
    "    # print(\"getting data from\", url)\n",
    "    req = requests.get(url)\n",
    "    if req.status_code != 200:\n",
    "        print(\"Request Fail with\", req.status_code)\n",
    "        return None # maybe return empty dataframe here\n",
    "    soup = BeautifulSoup(req.text, 'lxml')\n",
    "    column_names = getColList(soup)\n",
    "    rowlist = getRowList(soup)\n",
    "    rows = getRows(rowlist,colist=column_names)\n",
    "    return pd.DataFrame(rows, columns=column_names)"
   ]
  },
  {
   "cell_type": "code",
   "execution_count": 51,
   "metadata": {},
   "outputs": [
    {
     "data": {
      "text/html": [
       "<div>\n",
       "<style scoped>\n",
       "    .dataframe tbody tr th:only-of-type {\n",
       "        vertical-align: middle;\n",
       "    }\n",
       "\n",
       "    .dataframe tbody tr th {\n",
       "        vertical-align: top;\n",
       "    }\n",
       "\n",
       "    .dataframe thead th {\n",
       "        text-align: right;\n",
       "    }\n",
       "</style>\n",
       "<table border=\"1\" class=\"dataframe\">\n",
       "  <thead>\n",
       "    <tr style=\"text-align: right;\">\n",
       "      <th></th>\n",
       "      <th>description</th>\n",
       "      <th>url</th>\n",
       "      <th>Ražotājs</th>\n",
       "      <th>Modelis</th>\n",
       "      <th>Gads</th>\n",
       "      <th>Garums</th>\n",
       "      <th>Stāv.</th>\n",
       "      <th>Cena</th>\n",
       "    </tr>\n",
       "  </thead>\n",
       "  <tbody>\n",
       "    <tr>\n",
       "      <th>0</th>\n",
       "      <td>Pilnīgi jaunas, iegādāties var Rīgas centrā. A...</td>\n",
       "      <td>https://ss.com/msg/lv/entertainment/sports/ski...</td>\n",
       "      <td>Salomon</td>\n",
       "      <td>Xdr</td>\n",
       "      <td>2021</td>\n",
       "      <td>160</td>\n",
       "      <td>jaun.</td>\n",
       "      <td>220  €</td>\n",
       "    </tr>\n",
       "    <tr>\n",
       "      <th>1</th>\n",
       "      <td>Pārdodu ļoti labā stāvoklī freestyle slēpes K2...</td>\n",
       "      <td>https://ss.com/msg/lv/entertainment/sports/ski...</td>\n",
       "      <td>K2</td>\n",
       "      <td>Domain</td>\n",
       "      <td>2012</td>\n",
       "      <td>174</td>\n",
       "      <td>lietota</td>\n",
       "      <td>300  €</td>\n",
       "    </tr>\n",
       "    <tr>\n",
       "      <th>2</th>\n",
       "      <td>В комплекте ботинки Salomon размер 44-45, палк...</td>\n",
       "      <td>https://ss.com/msg/lv/entertainment/sports/ski...</td>\n",
       "      <td>Head</td>\n",
       "      <td>Extreme</td>\n",
       "      <td>2010</td>\n",
       "      <td>150</td>\n",
       "      <td>lietota</td>\n",
       "      <td>50  €</td>\n",
       "    </tr>\n",
       "    <tr>\n",
       "      <th>3</th>\n",
       "      <td>Pārdod Fischer The Curv (2017 g. , 178cm/sidec...</td>\n",
       "      <td>https://ss.com/msg/lv/entertainment/sports/ski...</td>\n",
       "      <td>Fischer</td>\n",
       "      <td>The Curv</td>\n",
       "      <td>2017</td>\n",
       "      <td>178</td>\n",
       "      <td>lietota</td>\n",
       "      <td>250  €</td>\n",
       "    </tr>\n",
       "    <tr>\n",
       "      <th>4</th>\n",
       "      <td>Pussezonu brauktas Fis slaloma slēpes. \\r\\nGar...</td>\n",
       "      <td>https://ss.com/msg/lv/entertainment/sports/ski...</td>\n",
       "      <td>Atomic</td>\n",
       "      <td>Redster S9</td>\n",
       "      <td>2022</td>\n",
       "      <td>165</td>\n",
       "      <td>lietota</td>\n",
       "      <td>700  €</td>\n",
       "    </tr>\n",
       "  </tbody>\n",
       "</table>\n",
       "</div>"
      ],
      "text/plain": [
       "                                         description  \\\n",
       "0  Pilnīgi jaunas, iegādāties var Rīgas centrā. A...   \n",
       "1  Pārdodu ļoti labā stāvoklī freestyle slēpes K2...   \n",
       "2  В комплекте ботинки Salomon размер 44-45, палк...   \n",
       "3  Pārdod Fischer The Curv (2017 g. , 178cm/sidec...   \n",
       "4  Pussezonu brauktas Fis slaloma slēpes. \\r\\nGar...   \n",
       "\n",
       "                                                 url Ražotājs     Modelis  \\\n",
       "0  https://ss.com/msg/lv/entertainment/sports/ski...  Salomon         Xdr   \n",
       "1  https://ss.com/msg/lv/entertainment/sports/ski...       K2      Domain   \n",
       "2  https://ss.com/msg/lv/entertainment/sports/ski...     Head     Extreme   \n",
       "3  https://ss.com/msg/lv/entertainment/sports/ski...  Fischer    The Curv   \n",
       "4  https://ss.com/msg/lv/entertainment/sports/ski...   Atomic  Redster S9   \n",
       "\n",
       "   Gads Garums    Stāv.    Cena  \n",
       "0  2021    160    jaun.  220  €  \n",
       "1  2012    174  lietota  300  €  \n",
       "2  2010    150  lietota   50  €  \n",
       "3  2017    178  lietota  250  €  \n",
       "4  2022    165  lietota  700  €  "
      ]
     },
     "execution_count": 51,
     "metadata": {},
     "output_type": "execute_result"
    }
   ],
   "source": [
    "skis = \"https://www.ss.com/lv/entertainment/sports/ski/skis/sell/filter/riga_f/fDgSeF4QEFF8FQ==.html\"\n",
    "idf = getDFfromURL(skis)\n",
    "idf.head()"
   ]
  },
  {
   "cell_type": "code",
   "execution_count": 52,
   "metadata": {},
   "outputs": [
    {
     "data": {
      "text/html": [
       "<div>\n",
       "<style scoped>\n",
       "    .dataframe tbody tr th:only-of-type {\n",
       "        vertical-align: middle;\n",
       "    }\n",
       "\n",
       "    .dataframe tbody tr th {\n",
       "        vertical-align: top;\n",
       "    }\n",
       "\n",
       "    .dataframe thead th {\n",
       "        text-align: right;\n",
       "    }\n",
       "</style>\n",
       "<table border=\"1\" class=\"dataframe\">\n",
       "  <thead>\n",
       "    <tr style=\"text-align: right;\">\n",
       "      <th></th>\n",
       "      <th>description</th>\n",
       "      <th>url</th>\n",
       "      <th>Ražotājs</th>\n",
       "      <th>Modelis</th>\n",
       "      <th>Gads</th>\n",
       "      <th>Garums</th>\n",
       "      <th>Stāv.</th>\n",
       "      <th>Cena</th>\n",
       "    </tr>\n",
       "  </thead>\n",
       "  <tbody>\n",
       "    <tr>\n",
       "      <th>0</th>\n",
       "      <td>Pilnīgi jaunas, iegādāties var Rīgas centrā. A...</td>\n",
       "      <td>https://ss.com/msg/lv/entertainment/sports/ski...</td>\n",
       "      <td>Salomon</td>\n",
       "      <td>Xdr</td>\n",
       "      <td>2021</td>\n",
       "      <td>160</td>\n",
       "      <td>jaun.</td>\n",
       "      <td>220  €</td>\n",
       "    </tr>\n",
       "    <tr>\n",
       "      <th>1</th>\n",
       "      <td>Pārdodu ļoti labā stāvoklī freestyle slēpes K2...</td>\n",
       "      <td>https://ss.com/msg/lv/entertainment/sports/ski...</td>\n",
       "      <td>K2</td>\n",
       "      <td>Domain</td>\n",
       "      <td>2012</td>\n",
       "      <td>174</td>\n",
       "      <td>lietota</td>\n",
       "      <td>300  €</td>\n",
       "    </tr>\n",
       "    <tr>\n",
       "      <th>2</th>\n",
       "      <td>В комплекте ботинки Salomon размер 44-45, палк...</td>\n",
       "      <td>https://ss.com/msg/lv/entertainment/sports/ski...</td>\n",
       "      <td>Head</td>\n",
       "      <td>Extreme</td>\n",
       "      <td>2010</td>\n",
       "      <td>150</td>\n",
       "      <td>lietota</td>\n",
       "      <td>50  €</td>\n",
       "    </tr>\n",
       "    <tr>\n",
       "      <th>3</th>\n",
       "      <td>Pārdod Fischer The Curv (2017 g. , 178cm/sidec...</td>\n",
       "      <td>https://ss.com/msg/lv/entertainment/sports/ski...</td>\n",
       "      <td>Fischer</td>\n",
       "      <td>The Curv</td>\n",
       "      <td>2017</td>\n",
       "      <td>178</td>\n",
       "      <td>lietota</td>\n",
       "      <td>250  €</td>\n",
       "    </tr>\n",
       "    <tr>\n",
       "      <th>4</th>\n",
       "      <td>Pussezonu brauktas Fis slaloma slēpes. \\r\\nGar...</td>\n",
       "      <td>https://ss.com/msg/lv/entertainment/sports/ski...</td>\n",
       "      <td>Atomic</td>\n",
       "      <td>Redster S9</td>\n",
       "      <td>2022</td>\n",
       "      <td>165</td>\n",
       "      <td>lietota</td>\n",
       "      <td>700  €</td>\n",
       "    </tr>\n",
       "  </tbody>\n",
       "</table>\n",
       "</div>"
      ],
      "text/plain": [
       "                                         description  \\\n",
       "0  Pilnīgi jaunas, iegādāties var Rīgas centrā. A...   \n",
       "1  Pārdodu ļoti labā stāvoklī freestyle slēpes K2...   \n",
       "2  В комплекте ботинки Salomon размер 44-45, палк...   \n",
       "3  Pārdod Fischer The Curv (2017 g. , 178cm/sidec...   \n",
       "4  Pussezonu brauktas Fis slaloma slēpes. \\r\\nGar...   \n",
       "\n",
       "                                                 url Ražotājs     Modelis  \\\n",
       "0  https://ss.com/msg/lv/entertainment/sports/ski...  Salomon         Xdr   \n",
       "1  https://ss.com/msg/lv/entertainment/sports/ski...       K2      Domain   \n",
       "2  https://ss.com/msg/lv/entertainment/sports/ski...     Head     Extreme   \n",
       "3  https://ss.com/msg/lv/entertainment/sports/ski...  Fischer    The Curv   \n",
       "4  https://ss.com/msg/lv/entertainment/sports/ski...   Atomic  Redster S9   \n",
       "\n",
       "   Gads Garums    Stāv.    Cena  \n",
       "0  2021    160    jaun.  220  €  \n",
       "1  2012    174  lietota  300  €  \n",
       "2  2010    150  lietota   50  €  \n",
       "3  2017    178  lietota  250  €  \n",
       "4  2022    165  lietota  700  €  "
      ]
     },
     "execution_count": 52,
     "metadata": {},
     "output_type": "execute_result"
    }
   ],
   "source": [
    "ski_boots = \"https://www.ss.com/lv/entertainment/sports/ski/ski-boots/filter/riga_f/\"\n",
    "idf = getDFfromURL(skis)\n",
    "idf.head()"
   ]
  },
  {
   "cell_type": "code",
   "execution_count": 53,
   "metadata": {},
   "outputs": [
    {
     "data": {
      "image/png": "[encoded data removed]",
      "text/plain": [
       "<Figure size 864x360 with 1 Axes>"
      ]
     },
     "metadata": {
      "needs_background": "light"
     },
     "output_type": "display_data"
    }
   ],
   "source": [
    "plt.figure(figsize=(12,5))\n",
    "chart = sns.countplot(x='Gads', data = idf, palette='GnBu')\n",
    "plt.xticks(\n",
    "    rotation=45, \n",
    "    horizontalalignment='right',   #escaping overlapping\n",
    "    fontweight='light')\n",
    "\n",
    "chart.set_title('Number of Ski boots per Year')\n",
    "\n",
    "None"
   ]
  },
  {
   "cell_type": "code",
   "execution_count": 54,
   "metadata": {},
   "outputs": [],
   "source": [
    "idf.to_csv('SS.com Ski Boots')"
   ]
  }
 ],
 "metadata": {
  "kernelspec": {
   "display_name": "Python 3.8.8",
   "language": "python",
   "name": "python3"
  },
  "language_info": {
   "codemirror_mode": {
    "name": "ipython",
    "version": 3
   },
   "file_extension": ".py",
   "mimetype": "text/x-python",
   "name": "python",
   "nbconvert_exporter": "python",
   "pygments_lexer": "ipython3",
   "version": "3.8.8"
  },
  "orig_nbformat": 4,
  "vscode": {
   "interpreter": {
    "hash": "ad2bdc8ecc057115af97d19610ffacc2b4e99fae6737bb82f5d7fb13d2f2c186"
   }
  }
 },
 "nbformat": 4,
 "nbformat_minor": 2
}
