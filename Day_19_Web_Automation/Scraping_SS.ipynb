{
 "cells": [
  {
   "cell_type": "code",
   "execution_count": 12,
   "metadata": {},
   "outputs": [],
   "source": [
    "import requests\n",
    "import time # import for playing nice and not getting blocked\n",
    "import pandas as pd\n",
    "import matplotlib.pyplot as plt\n",
    "import seaborn as sns\n",
    "from bs4 import BeautifulSoup"
   ]
  },
  {
   "cell_type": "code",
   "execution_count": 13,
   "metadata": {},
   "outputs": [],
   "source": [
    "url = \"https://www.ss.com/lv/entertainment/sports/ski/skis/sell/riga_region_f/\"\n",
    "req = requests.get(url)"
   ]
  },
  {
   "cell_type": "code",
   "execution_count": 14,
   "metadata": {},
   "outputs": [],
   "source": [
    "soup = BeautifulSoup(req.text, 'lxml')\n",
    "headline = soup.find(\"tr\", {\"id\":\"head_line\"}) "
   ]
  },
  {
   "cell_type": "code",
   "execution_count": 15,
   "metadata": {},
   "outputs": [],
   "source": [
    "headline = soup.find(\"tr\", {\"id\":\"head_line\"}) "
   ]
  },
  {
   "cell_type": "code",
   "execution_count": 16,
   "metadata": {},
   "outputs": [],
   "source": [
    "headtds = headline.find_all(\"td\")"
   ]
  },
  {
   "cell_type": "code",
   "execution_count": 17,
   "metadata": {},
   "outputs": [
    {
     "data": {
      "text/plain": [
       "['Ražotājs', 'Modelis', 'Gads', 'Garums', 'Stāv.', 'Cena']"
      ]
     },
     "execution_count": 17,
     "metadata": {},
     "output_type": "execute_result"
    }
   ],
   "source": [
    "headcolumns = [el.text for el in headtds[1:]]\n",
    "headcolumns"
   ]
  },
  {
   "cell_type": "code",
   "execution_count": 18,
   "metadata": {},
   "outputs": [],
   "source": [
    "def getColList(soup):\n",
    "    column_list = [\"description\",\"url\"] # we decided to that we need these two column names no matter the html\n",
    "    headline = soup.find(\"tr\", {\"id\":\"head_line\"})\n",
    "    headtds = headline.find_all(\"td\")\n",
    "    headcolumns = [el.text for el in headtds[1:]] # this will get all column names starting with 2nd in HTML\n",
    "    column_list += headcolumns\n",
    "    return column_list"
   ]
  },
  {
   "cell_type": "code",
   "execution_count": 19,
   "metadata": {},
   "outputs": [],
   "source": [
    "column_names = getColList(soup)"
   ]
  },
  {
   "cell_type": "code",
   "execution_count": 20,
   "metadata": {},
   "outputs": [],
   "source": [
    "def getRowList(soup):\n",
    "    trows = soup.find_all('tr')\n",
    "    aprows = [row for row in trows if row.get('id',\"\").startswith(\"tr_\") and not row.get('id',\"\").startswith(\"tr_bnr\") ]\n",
    "    return aprows"
   ]
  },
  {
   "cell_type": "code",
   "execution_count": 21,
   "metadata": {},
   "outputs": [],
   "source": [
    "def getRow(row,colist=column_names):\n",
    "    row_tds = row.find_all('td')\n",
    "    rowDict = {}\n",
    "    if len(row_tds) < 3: # a little sanity check\n",
    "        print(\"Hmm bad row\")\n",
    "        return rowDict\n",
    "    \n",
    "    rowDict[colist[0]] = row_tds[2].text # so the big assumption is that we always get description in 3rd column\n",
    "    rowDict[colist[1]] = \"https://ss.com\" + row_tds[1].find('a').get('href')\n",
    "    for td,key in zip(row_tds[3:],colist[2:]): \n",
    "        rowDict[key] = td.text\n",
    "    return rowDict"
   ]
  },
  {
   "cell_type": "code",
   "execution_count": 22,
   "metadata": {},
   "outputs": [],
   "source": [
    "def getRows(rowlist,colist=column_names):\n",
    "    return [getRow(row, colist=colist) for row in rowlist]"
   ]
  },
  {
   "cell_type": "code",
   "execution_count": 23,
   "metadata": {},
   "outputs": [],
   "source": [
    "def getDFfromURL(url):\n",
    "    # print(\"getting data from\", url)\n",
    "    req = requests.get(url)\n",
    "    if req.status_code != 200:\n",
    "        print(\"Request Fail with\", req.status_code)\n",
    "        return None # maybe return empty dataframe here\n",
    "    soup = BeautifulSoup(req.text, 'lxml')\n",
    "    column_names = getColList(soup)\n",
    "    rowlist = getRowList(soup)\n",
    "    rows = getRows(rowlist,colist=column_names)\n",
    "    return pd.DataFrame(rows, columns=column_names)"
   ]
  },
  {
   "cell_type": "code",
   "execution_count": 24,
   "metadata": {},
   "outputs": [
    {
     "data": {
      "text/html": [
       "<div>\n",
       "<style scoped>\n",
       "    .dataframe tbody tr th:only-of-type {\n",
       "        vertical-align: middle;\n",
       "    }\n",
       "\n",
       "    .dataframe tbody tr th {\n",
       "        vertical-align: top;\n",
       "    }\n",
       "\n",
       "    .dataframe thead th {\n",
       "        text-align: right;\n",
       "    }\n",
       "</style>\n",
       "<table border=\"1\" class=\"dataframe\">\n",
       "  <thead>\n",
       "    <tr style=\"text-align: right;\">\n",
       "      <th></th>\n",
       "      <th>description</th>\n",
       "      <th>url</th>\n",
       "      <th>Ražotājs</th>\n",
       "      <th>Modelis</th>\n",
       "      <th>Gads</th>\n",
       "      <th>Garums</th>\n",
       "      <th>Stāv.</th>\n",
       "      <th>Cena</th>\n",
       "    </tr>\n",
       "  </thead>\n",
       "  <tbody>\n",
       "    <tr>\n",
       "      <th>0</th>\n",
       "      <td>Slēpes turētājs Thule Snowpack Extender 7325. ...</td>\n",
       "      <td>https://ss.com/msg/lv/entertainment/sports/ski...</td>\n",
       "      <td>Thule</td>\n",
       "      <td>732500</td>\n",
       "      <td>2021</td>\n",
       "      <td>625</td>\n",
       "      <td>jaun.</td>\n",
       "      <td>230  €</td>\n",
       "    </tr>\n",
       "    <tr>\n",
       "      <th>1</th>\n",
       "      <td>Pilnīgi jaunas, iegādāties var Rīgas centrā. A...</td>\n",
       "      <td>https://ss.com/msg/lv/entertainment/sports/ski...</td>\n",
       "      <td>Salomon</td>\n",
       "      <td>Xdr</td>\n",
       "      <td>2021</td>\n",
       "      <td>160</td>\n",
       "      <td>jaun.</td>\n",
       "      <td>220  €</td>\n",
       "    </tr>\n",
       "    <tr>\n",
       "      <th>2</th>\n",
       "      <td>Pārdodu ļoti labā stāvoklī freestyle slēpes K2...</td>\n",
       "      <td>https://ss.com/msg/lv/entertainment/sports/ski...</td>\n",
       "      <td>K2</td>\n",
       "      <td>Domain</td>\n",
       "      <td>2012</td>\n",
       "      <td>174</td>\n",
       "      <td>lietota</td>\n",
       "      <td>300  €</td>\n",
       "    </tr>\n",
       "    <tr>\n",
       "      <th>3</th>\n",
       "      <td>В комплекте ботинки Salomon размер 44-45, палк...</td>\n",
       "      <td>https://ss.com/msg/lv/entertainment/sports/ski...</td>\n",
       "      <td>Head</td>\n",
       "      <td>Extreme</td>\n",
       "      <td>2010</td>\n",
       "      <td>150</td>\n",
       "      <td>lietota</td>\n",
       "      <td>50  €</td>\n",
       "    </tr>\n",
       "    <tr>\n",
       "      <th>4</th>\n",
       "      <td>Pārdod Fischer The Curv (2017 g. , 178cm/sidec...</td>\n",
       "      <td>https://ss.com/msg/lv/entertainment/sports/ski...</td>\n",
       "      <td>Fischer</td>\n",
       "      <td>The Curv</td>\n",
       "      <td>2017</td>\n",
       "      <td>178</td>\n",
       "      <td>lietota</td>\n",
       "      <td>250  €</td>\n",
       "    </tr>\n",
       "  </tbody>\n",
       "</table>\n",
       "</div>"
      ],
      "text/plain": [
       "                                         description  \\\n",
       "0  Slēpes turētājs Thule Snowpack Extender 7325. ...   \n",
       "1  Pilnīgi jaunas, iegādāties var Rīgas centrā. A...   \n",
       "2  Pārdodu ļoti labā stāvoklī freestyle slēpes K2...   \n",
       "3  В комплекте ботинки Salomon размер 44-45, палк...   \n",
       "4  Pārdod Fischer The Curv (2017 g. , 178cm/sidec...   \n",
       "\n",
       "                                                 url Ražotājs   Modelis  Gads  \\\n",
       "0  https://ss.com/msg/lv/entertainment/sports/ski...    Thule    732500  2021   \n",
       "1  https://ss.com/msg/lv/entertainment/sports/ski...  Salomon       Xdr  2021   \n",
       "2  https://ss.com/msg/lv/entertainment/sports/ski...       K2    Domain  2012   \n",
       "3  https://ss.com/msg/lv/entertainment/sports/ski...     Head   Extreme  2010   \n",
       "4  https://ss.com/msg/lv/entertainment/sports/ski...  Fischer  The Curv  2017   \n",
       "\n",
       "  Garums    Stāv.    Cena  \n",
       "0    625    jaun.  230  €  \n",
       "1    160    jaun.  220  €  \n",
       "2    174  lietota  300  €  \n",
       "3    150  lietota   50  €  \n",
       "4    178  lietota  250  €  "
      ]
     },
     "execution_count": 24,
     "metadata": {},
     "output_type": "execute_result"
    }
   ],
   "source": [
    "skis = \"https://www.ss.com/lv/entertainment/sports/ski/skis/sell/filter/riga_f/fDgSeF4QEFF8FQ==.html\"\n",
    "idf = getDFfromURL(skis)\n",
    "idf.head()"
   ]
  },
  {
   "cell_type": "code",
   "execution_count": 25,
   "metadata": {},
   "outputs": [
    {
     "data": {
      "text/html": [
       "<div>\n",
       "<style scoped>\n",
       "    .dataframe tbody tr th:only-of-type {\n",
       "        vertical-align: middle;\n",
       "    }\n",
       "\n",
       "    .dataframe tbody tr th {\n",
       "        vertical-align: top;\n",
       "    }\n",
       "\n",
       "    .dataframe thead th {\n",
       "        text-align: right;\n",
       "    }\n",
       "</style>\n",
       "<table border=\"1\" class=\"dataframe\">\n",
       "  <thead>\n",
       "    <tr style=\"text-align: right;\">\n",
       "      <th></th>\n",
       "      <th>description</th>\n",
       "      <th>url</th>\n",
       "      <th>Ražotājs</th>\n",
       "      <th>Modelis</th>\n",
       "      <th>Gads</th>\n",
       "      <th>Garums</th>\n",
       "      <th>Stāv.</th>\n",
       "      <th>Cena</th>\n",
       "    </tr>\n",
       "  </thead>\n",
       "  <tbody>\n",
       "    <tr>\n",
       "      <th>0</th>\n",
       "      <td>Slēpes turētājs Thule Snowpack Extender 7325. ...</td>\n",
       "      <td>https://ss.com/msg/lv/entertainment/sports/ski...</td>\n",
       "      <td>Thule</td>\n",
       "      <td>732500</td>\n",
       "      <td>2021</td>\n",
       "      <td>625</td>\n",
       "      <td>jaun.</td>\n",
       "      <td>230  €</td>\n",
       "    </tr>\n",
       "    <tr>\n",
       "      <th>1</th>\n",
       "      <td>Pilnīgi jaunas, iegādāties var Rīgas centrā. A...</td>\n",
       "      <td>https://ss.com/msg/lv/entertainment/sports/ski...</td>\n",
       "      <td>Salomon</td>\n",
       "      <td>Xdr</td>\n",
       "      <td>2021</td>\n",
       "      <td>160</td>\n",
       "      <td>jaun.</td>\n",
       "      <td>220  €</td>\n",
       "    </tr>\n",
       "    <tr>\n",
       "      <th>2</th>\n",
       "      <td>Pārdodu ļoti labā stāvoklī freestyle slēpes K2...</td>\n",
       "      <td>https://ss.com/msg/lv/entertainment/sports/ski...</td>\n",
       "      <td>K2</td>\n",
       "      <td>Domain</td>\n",
       "      <td>2012</td>\n",
       "      <td>174</td>\n",
       "      <td>lietota</td>\n",
       "      <td>300  €</td>\n",
       "    </tr>\n",
       "    <tr>\n",
       "      <th>3</th>\n",
       "      <td>В комплекте ботинки Salomon размер 44-45, палк...</td>\n",
       "      <td>https://ss.com/msg/lv/entertainment/sports/ski...</td>\n",
       "      <td>Head</td>\n",
       "      <td>Extreme</td>\n",
       "      <td>2010</td>\n",
       "      <td>150</td>\n",
       "      <td>lietota</td>\n",
       "      <td>50  €</td>\n",
       "    </tr>\n",
       "    <tr>\n",
       "      <th>4</th>\n",
       "      <td>Pārdod Fischer The Curv (2017 g. , 178cm/sidec...</td>\n",
       "      <td>https://ss.com/msg/lv/entertainment/sports/ski...</td>\n",
       "      <td>Fischer</td>\n",
       "      <td>The Curv</td>\n",
       "      <td>2017</td>\n",
       "      <td>178</td>\n",
       "      <td>lietota</td>\n",
       "      <td>250  €</td>\n",
       "    </tr>\n",
       "  </tbody>\n",
       "</table>\n",
       "</div>"
      ],
      "text/plain": [
       "                                         description  \\\n",
       "0  Slēpes turētājs Thule Snowpack Extender 7325. ...   \n",
       "1  Pilnīgi jaunas, iegādāties var Rīgas centrā. A...   \n",
       "2  Pārdodu ļoti labā stāvoklī freestyle slēpes K2...   \n",
       "3  В комплекте ботинки Salomon размер 44-45, палк...   \n",
       "4  Pārdod Fischer The Curv (2017 g. , 178cm/sidec...   \n",
       "\n",
       "                                                 url Ražotājs   Modelis  Gads  \\\n",
       "0  https://ss.com/msg/lv/entertainment/sports/ski...    Thule    732500  2021   \n",
       "1  https://ss.com/msg/lv/entertainment/sports/ski...  Salomon       Xdr  2021   \n",
       "2  https://ss.com/msg/lv/entertainment/sports/ski...       K2    Domain  2012   \n",
       "3  https://ss.com/msg/lv/entertainment/sports/ski...     Head   Extreme  2010   \n",
       "4  https://ss.com/msg/lv/entertainment/sports/ski...  Fischer  The Curv  2017   \n",
       "\n",
       "  Garums    Stāv.    Cena  \n",
       "0    625    jaun.  230  €  \n",
       "1    160    jaun.  220  €  \n",
       "2    174  lietota  300  €  \n",
       "3    150  lietota   50  €  \n",
       "4    178  lietota  250  €  "
      ]
     },
     "execution_count": 25,
     "metadata": {},
     "output_type": "execute_result"
    }
   ],
   "source": [
    "ski_boots = \"https://www.ss.com/lv/entertainment/sports/ski/ski-boots/filter/riga_f/\"\n",
    "idf = getDFfromURL(skis)\n",
    "idf.head()"
   ]
  },
  {
   "cell_type": "code",
   "execution_count": 26,
   "metadata": {},
   "outputs": [
    {
     "data": {
      "image/png": "[encoded data removed]",
      "text/plain": [
       "<Figure size 864x360 with 1 Axes>"
      ]
     },
     "metadata": {
      "needs_background": "light"
     },
     "output_type": "display_data"
    }
   ],
   "source": [
    "plt.figure(figsize=(12,5))\n",
    "chart = sns.countplot(x='Gads', data = idf, palette='GnBu')\n",
    "plt.xticks(\n",
    "    rotation=45, \n",
    "    horizontalalignment='right',   #escaping overlapping\n",
    "    fontweight='light')\n",
    "\n",
    "chart.set_title('Number of Ski boots per Year')\n",
    "\n",
    "None"
   ]
  },
  {
   "cell_type": "code",
   "execution_count": 27,
   "metadata": {},
   "outputs": [],
   "source": [
    "idf.to_csv('SS.com Ski Boots')"
   ]
  },
  {
   "cell_type": "code",
   "execution_count": 47,
   "metadata": {},
   "outputs": [],
   "source": [
    "url_ener = \"https://www.pxweb.bfs.admin.ch/pxweb/en/px-x-0204000000_106/px-x-0204000000_106/px-x-0204000000_106.px/table/tableViewLayout2/\"\n",
    "req = requests.get(url_ener)"
   ]
  },
  {
   "cell_type": "code",
   "execution_count": 40,
   "metadata": {},
   "outputs": [],
   "source": [
    "soup = BeautifulSoup(req.text, 'lxml')"
   ]
  },
  {
   "cell_type": "code",
   "execution_count": 48,
   "metadata": {},
   "outputs": [
    {
     "data": {
      "text/plain": [
       "1"
      ]
     },
     "execution_count": 48,
     "metadata": {},
     "output_type": "execute_result"
    }
   ],
   "source": [
    "tables = soup.find_all(\"table\") # finds ALL elements matching our filter\n",
    "len(tables)"
   ]
  },
  {
   "cell_type": "code",
   "execution_count": 49,
   "metadata": {},
   "outputs": [
    {
     "ename": "AttributeError",
     "evalue": "'NoneType' object has no attribute 'find_all'",
     "output_type": "error",
     "traceback": [
      "\u001b[1;31m---------------------------------------------------------------------------\u001b[0m",
      "\u001b[1;31mAttributeError\u001b[0m                            Traceback (most recent call last)",
      "\u001b[1;32m<ipython-input-49-6ab93d47eabd>\u001b[0m in \u001b[0;36m<module>\u001b[1;34m\u001b[0m\n\u001b[1;32m----> 1\u001b[1;33m \u001b[0medf\u001b[0m \u001b[1;33m=\u001b[0m \u001b[0mgetDFfromURL\u001b[0m\u001b[1;33m(\u001b[0m\u001b[0murl_ener\u001b[0m\u001b[1;33m)\u001b[0m\u001b[1;33m\u001b[0m\u001b[1;33m\u001b[0m\u001b[0m\n\u001b[0m\u001b[0;32m      2\u001b[0m \u001b[0medf\u001b[0m\u001b[1;33m.\u001b[0m\u001b[0mhead\u001b[0m\u001b[1;33m(\u001b[0m\u001b[1;33m)\u001b[0m\u001b[1;33m\u001b[0m\u001b[1;33m\u001b[0m\u001b[0m\n",
      "\u001b[1;32m<ipython-input-23-6b481b3351dd>\u001b[0m in \u001b[0;36mgetDFfromURL\u001b[1;34m(url)\u001b[0m\n\u001b[0;32m      6\u001b[0m         \u001b[1;32mreturn\u001b[0m \u001b[1;32mNone\u001b[0m \u001b[1;31m# maybe return empty dataframe here\u001b[0m\u001b[1;33m\u001b[0m\u001b[1;33m\u001b[0m\u001b[0m\n\u001b[0;32m      7\u001b[0m     \u001b[0msoup\u001b[0m \u001b[1;33m=\u001b[0m \u001b[0mBeautifulSoup\u001b[0m\u001b[1;33m(\u001b[0m\u001b[0mreq\u001b[0m\u001b[1;33m.\u001b[0m\u001b[0mtext\u001b[0m\u001b[1;33m,\u001b[0m \u001b[1;34m'lxml'\u001b[0m\u001b[1;33m)\u001b[0m\u001b[1;33m\u001b[0m\u001b[1;33m\u001b[0m\u001b[0m\n\u001b[1;32m----> 8\u001b[1;33m     \u001b[0mcolumn_names\u001b[0m \u001b[1;33m=\u001b[0m \u001b[0mgetColList\u001b[0m\u001b[1;33m(\u001b[0m\u001b[0msoup\u001b[0m\u001b[1;33m)\u001b[0m\u001b[1;33m\u001b[0m\u001b[1;33m\u001b[0m\u001b[0m\n\u001b[0m\u001b[0;32m      9\u001b[0m     \u001b[0mrowlist\u001b[0m \u001b[1;33m=\u001b[0m \u001b[0mgetRowList\u001b[0m\u001b[1;33m(\u001b[0m\u001b[0msoup\u001b[0m\u001b[1;33m)\u001b[0m\u001b[1;33m\u001b[0m\u001b[1;33m\u001b[0m\u001b[0m\n\u001b[0;32m     10\u001b[0m     \u001b[0mrows\u001b[0m \u001b[1;33m=\u001b[0m \u001b[0mgetRows\u001b[0m\u001b[1;33m(\u001b[0m\u001b[0mrowlist\u001b[0m\u001b[1;33m,\u001b[0m\u001b[0mcolist\u001b[0m\u001b[1;33m=\u001b[0m\u001b[0mcolumn_names\u001b[0m\u001b[1;33m)\u001b[0m\u001b[1;33m\u001b[0m\u001b[1;33m\u001b[0m\u001b[0m\n",
      "\u001b[1;32m<ipython-input-18-90d2d4b60d3e>\u001b[0m in \u001b[0;36mgetColList\u001b[1;34m(soup)\u001b[0m\n\u001b[0;32m      2\u001b[0m     \u001b[0mcolumn_list\u001b[0m \u001b[1;33m=\u001b[0m \u001b[1;33m[\u001b[0m\u001b[1;34m\"description\"\u001b[0m\u001b[1;33m,\u001b[0m\u001b[1;34m\"url\"\u001b[0m\u001b[1;33m]\u001b[0m \u001b[1;31m# we decided to that we need these two column names no matter the html\u001b[0m\u001b[1;33m\u001b[0m\u001b[1;33m\u001b[0m\u001b[0m\n\u001b[0;32m      3\u001b[0m     \u001b[0mheadline\u001b[0m \u001b[1;33m=\u001b[0m \u001b[0msoup\u001b[0m\u001b[1;33m.\u001b[0m\u001b[0mfind\u001b[0m\u001b[1;33m(\u001b[0m\u001b[1;34m\"tr\"\u001b[0m\u001b[1;33m,\u001b[0m \u001b[1;33m{\u001b[0m\u001b[1;34m\"id\"\u001b[0m\u001b[1;33m:\u001b[0m\u001b[1;34m\"head_line\"\u001b[0m\u001b[1;33m}\u001b[0m\u001b[1;33m)\u001b[0m\u001b[1;33m\u001b[0m\u001b[1;33m\u001b[0m\u001b[0m\n\u001b[1;32m----> 4\u001b[1;33m     \u001b[0mheadtds\u001b[0m \u001b[1;33m=\u001b[0m \u001b[0mheadline\u001b[0m\u001b[1;33m.\u001b[0m\u001b[0mfind_all\u001b[0m\u001b[1;33m(\u001b[0m\u001b[1;34m\"td\"\u001b[0m\u001b[1;33m)\u001b[0m\u001b[1;33m\u001b[0m\u001b[1;33m\u001b[0m\u001b[0m\n\u001b[0m\u001b[0;32m      5\u001b[0m     \u001b[0mheadcolumns\u001b[0m \u001b[1;33m=\u001b[0m \u001b[1;33m[\u001b[0m\u001b[0mel\u001b[0m\u001b[1;33m.\u001b[0m\u001b[0mtext\u001b[0m \u001b[1;32mfor\u001b[0m \u001b[0mel\u001b[0m \u001b[1;32min\u001b[0m \u001b[0mheadtds\u001b[0m\u001b[1;33m[\u001b[0m\u001b[1;36m1\u001b[0m\u001b[1;33m:\u001b[0m\u001b[1;33m]\u001b[0m\u001b[1;33m]\u001b[0m \u001b[1;31m# this will get all column names starting with 2nd in HTML\u001b[0m\u001b[1;33m\u001b[0m\u001b[1;33m\u001b[0m\u001b[0m\n\u001b[0;32m      6\u001b[0m     \u001b[0mcolumn_list\u001b[0m \u001b[1;33m+=\u001b[0m \u001b[0mheadcolumns\u001b[0m\u001b[1;33m\u001b[0m\u001b[1;33m\u001b[0m\u001b[0m\n",
      "\u001b[1;31mAttributeError\u001b[0m: 'NoneType' object has no attribute 'find_all'"
     ]
    }
   ],
   "source": [
    "edf = getDFfromURL(url_ener)\n",
    "edf.head()"
   ]
  },
  {
   "cell_type": "code",
   "execution_count": 34,
   "metadata": {},
   "outputs": [
    {
     "data": {
      "text/html": [
       "<div>\n",
       "<style scoped>\n",
       "    .dataframe tbody tr th:only-of-type {\n",
       "        vertical-align: middle;\n",
       "    }\n",
       "\n",
       "    .dataframe tbody tr th {\n",
       "        vertical-align: top;\n",
       "    }\n",
       "\n",
       "    .dataframe thead th {\n",
       "        text-align: right;\n",
       "    }\n",
       "</style>\n",
       "<table border=\"1\" class=\"dataframe\">\n",
       "  <thead>\n",
       "    <tr style=\"text-align: right;\">\n",
       "      <th></th>\n",
       "      <th>&lt;!DOCTYPE html&gt;</th>\n",
       "    </tr>\n",
       "  </thead>\n",
       "  <tbody>\n",
       "    <tr>\n",
       "      <th>0</th>\n",
       "      <td>&lt;html dir=\"ltr\" lang=\"en-GB\"</td>\n",
       "    </tr>\n",
       "    <tr>\n",
       "      <th>1</th>\n",
       "      <td>class=\"no-js page-dataproducts \"&gt;</td>\n",
       "    </tr>\n",
       "    <tr>\n",
       "      <th>2</th>\n",
       "      <td>&lt;head&gt;</td>\n",
       "    </tr>\n",
       "    <tr>\n",
       "      <th>3</th>\n",
       "      <td>&lt;meta charset=\"utf-8\"&gt;</td>\n",
       "    </tr>\n",
       "    <tr>\n",
       "      <th>4</th>\n",
       "      <td>&lt;meta name=\"viewport\" content=\"width=devic...</td>\n",
       "    </tr>\n",
       "  </tbody>\n",
       "</table>\n",
       "</div>"
      ],
      "text/plain": [
       "                                     <!DOCTYPE html>\n",
       "0                       <html dir=\"ltr\" lang=\"en-GB\"\n",
       "1                  class=\"no-js page-dataproducts \">\n",
       "2                                             <head>\n",
       "3                             <meta charset=\"utf-8\">\n",
       "4      <meta name=\"viewport\" content=\"width=devic..."
      ]
     },
     "execution_count": 34,
     "metadata": {},
     "output_type": "execute_result"
    }
   ],
   "source": [
    "energy_df.head()"
   ]
  }
 ],
 "metadata": {
  "kernelspec": {
   "display_name": "Python 3.8.8",
   "language": "python",
   "name": "python3"
  },
  "language_info": {
   "codemirror_mode": {
    "name": "ipython",
    "version": 3
   },
   "file_extension": ".py",
   "mimetype": "text/x-python",
   "name": "python",
   "nbconvert_exporter": "python",
   "pygments_lexer": "ipython3",
   "version": "3.8.8"
  },
  "orig_nbformat": 4,
  "vscode": {
   "interpreter": {
    "hash": "ad2bdc8ecc057115af97d19610ffacc2b4e99fae6737bb82f5d7fb13d2f2c186"
   }
  }
 },
 "nbformat": 4,
 "nbformat_minor": 2
}
